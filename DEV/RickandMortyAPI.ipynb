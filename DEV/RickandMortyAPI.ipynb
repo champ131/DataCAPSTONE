{
 "cells": [
  {
   "cell_type": "markdown",
   "id": "ceed802b",
   "metadata": {},
   "source": [
    "---API EXAMPLE PROJECT---\n"
   ]
  },
  {
   "cell_type": "code",
   "execution_count": 7,
   "id": "9a2cb601",
   "metadata": {},
   "outputs": [
    {
     "ename": "IndentationError",
     "evalue": "unexpected indent (2354107997.py, line 47)",
     "output_type": "error",
     "traceback": [
      "  \u001b[36mCell\u001b[39m\u001b[36m \u001b[39m\u001b[32mIn[7]\u001b[39m\u001b[32m, line 47\u001b[39m\n\u001b[31m    \u001b[39m\u001b[31m{UPDATE} and {UPDATE}\u001b[39m\n    ^\n\u001b[31mIndentationError\u001b[39m\u001b[31m:\u001b[39m unexpected indent\n"
     ]
    }
   ],
   "source": [
    "import request\n",
    "import json\n",
    "import math\n",
    "\n",
    "def episodeCount(species, status):\n",
    "    \"\"\"\n",
    "    Function to filter Rick and Morty characters based on species and status, and return the minimum and maximum number of episodes in which the filtered characters have appeared.\n",
    "\n",
    "    Args:\n",
    "        species (str): The species to filter characters by (e.g., \"Human\", \"Alien\").\n",
    "        status (str): The status to filter characters by (e.g., \"Alive\", \"Dead\", \"unknown\").\n",
    "\n",
    "    Returns:\n",
    "        list: A list containing two integers representing the minimum and maximum episode counts among the filtered characters.              \n",
    "If no characters match the criteria, returns [0, 0].\n",
    "\n",
    "    Raises:\n",
    "        Exception: If there is an issue with the HTTP request or JSON parsing.\n",
    "    \"\"\"\n",
    "\n",
    "\n",
    "    # Initialize the minimum and maximum episode counts\n",
    "    min_episodes = float('inf')\n",
    "    max_episodes = float('-inf')\n",
    "\n",
    "    try:\n",
    "        # Rick and Morty API endpoint for characters\n",
    "        url = \"https://rickandmortyapi.com/api/character/\"\n",
    "        page = 1 # Start from the first page\n",
    "\n",
    "        # Iterate through all pages of the API response\n",
    "        while True:\n",
    "            # Make an HTTP GET request, passing the current page number as a query parameter\n",
    "            response = request.get(url, params={'page': page})\n",
    "            response.raise_for_status() # Handle HTTP errors\n",
    "            data = response.json()      # Parse the JSON response\n",
    "\n",
    "            # Extract the list of characters from the response\n",
    "            {UPDATE}\n",
    "            if not characters:\n",
    "                # If there are no more characters, exit the loop\n",
    "                {UPDATE}\n",
    "\n",
    "            # Iterate through each character record in the current page\n",
    "            {UPDATE}\n",
    "                # Filter records based on species and status\n",
    "                {UPDATE} and {UPDATE}\n",
    "                    # Count the number of episodes in which the character appears\n",
    "                    {UPDATE}\n",
    "                    # Update the minimum and maximum episode counts\n",
    "                    min_episodes = min (min_episodes, episode_count)\n",
    "                    max_episodes = max (max_episodes, episode_count)\n",
    "\n",
    "            # Check if there is a next page; if not, break out of the loop.\n",
    "            {UPDATE}\n",
    "\n",
    "            # Move to the next page\n",
    "            page += 1\n",
    "\n",
    "    except Exception as e:\n",
    "        # If there is any error during the request or processing, raise an exception.\n",
    "        {UPDATE} Exception(\"An error occurred: \" + str(e))\n",
    "\n",
    "    # If no matching characters were found, return [0, 0]\n",
    "    if min_episodes == float('inf') and max_episodes == float('-inf'):\n",
    "        {UPDATE}\n",
    "\n",
    "    # Return the integer values of the minimum and maximum episode counts.\n",
    "    return {UPDATE}\n",
    "\n",
    "# Example usage:\n",
    "species_filter = \"Human\"\n",
    "status_filter = \"Alive\"\n",
    "result = episodeCount(species_filter, status_filter)\n",
    "print(\"Minimum Episode Count:\", result[0])\n",
    "print(\"Maximum Episode Count:\", result[1])\n",
    "\n"
   ]
  },
  {
   "cell_type": "code",
   "execution_count": 8,
   "id": "e23d864f",
   "metadata": {},
   "outputs": [
    {
     "name": "stdout",
     "output_type": "stream",
     "text": [
      "Episode count range for alive Humans: [1, 51]\n",
      "Episode count range for dead Aliens: [1, 3]\n",
      "Episode count range for unknown Robots: [1, 1]\n",
      "Episode count range for alive Mythological Creatures: [1, 3]\n"
     ]
    }
   ],
   "source": [
    "import requests\n",
    "import json\n",
    "import math\n",
    "\n",
    "def episopeCount(species, status):\n",
    "    \"\"\"\n",
    "        Function to filter Rick and Morty characters based on species and status, and return the minimum and maximum number of episodes in which the filtered characters have appeared.\n",
    "    \"\"\"\n",
    "\n",
    "    # Args:\n",
    "    # species (str): the species to filter characters by (e.g., \"Human\", \"Alien\").\n",
    "    # status (str): The status to filter characters by (e.g., \"Alive\", \"Dead\", \"unknown\").\n",
    "    # Returns:\n",
    "    # list: A list containing two integers representing the minimum and maximum episode count among the filtered characters.\n",
    "    # If no characters match the criteria, return [0, 0].\n",
    "    # Raises:\n",
    "    # requests.exceptions.RequestException: If there is an issue with the HTTP request.\n",
    "    # json.JSONDecodeError: If there is an issue with JSON parsing.\n",
    "    # \"\"\"\n",
    "\n",
    "    # Initialize the minimum and maximum episode counts\n",
    "    min_episodes = float('inf')\n",
    "    max_episodes = float('-inf')\n",
    "    found_character = False\n",
    "    # Rick and Morty API endpoint for characters\n",
    "    try:\n",
    "        url = \"https://rickandmortyapi.com/api/character/\"\n",
    "        page = 1 # Start from the first page\n",
    "\n",
    "        # Iterate through all pages of the API response\n",
    "        while True:\n",
    "            response = requests.get(url, params={'page': page})\n",
    "            response.raise_for_status()  # Raise an exception for bad status codes\n",
    "            data = response.json()\n",
    "\n",
    "            for character in data['results']:\n",
    "                if character['species'] == species and character['status'].lower() == status.lower():\n",
    "                    found_character = True\n",
    "                    episode_count = len(character['episode'])\n",
    "                    min_episodes = min(min_episodes, episode_count)\n",
    "                    max_episodes = max(max_episodes, episode_count)\n",
    "\n",
    "            if data['info']['next']:\n",
    "                page += 1\n",
    "            else:\n",
    "                break\n",
    "\n",
    "        if not found_character:\n",
    "            return [0, 0]\n",
    "        else:\n",
    "            return [min_episodes, max_episodes]\n",
    "\n",
    "    except requests.exceptions.RequestException as e:\n",
    "        raise Exception(f\"Error during HTTP request: {e}\")\n",
    "    except json.JSONDecodeError as e:\n",
    "        raise Exception(f\"Error decoding JSON response: {e}\")\n",
    "\n",
    "# Example usage:\n",
    "try:\n",
    "    episode_range = episopeCount(\"Human\", \"Alive\")\n",
    "    print(f\"Episode count range for alive Humans: {episode_range}\")\n",
    "\n",
    "    episode_range = episopeCount(\"Alien\", \"Dead\")\n",
    "    print(f\"Episode count range for dead Aliens: {episode_range}\")\n",
    "\n",
    "    episode_range = episopeCount(\"Robot\", \"unknown\")\n",
    "    print(f\"Episode count range for unknown Robots: {episode_range}\")\n",
    "\n",
    "    episode_range = episopeCount(\"Mythological Creature\", \"Alive\")\n",
    "    print(f\"Episode count range for alive Mythological Creatures: {episode_range}\")\n",
    "\n",
    "except Exception as e:\n",
    "    print(f\"An error occurred: {e}\")\n"
   ]
  },
  {
   "cell_type": "markdown",
   "id": "6e1ee112",
   "metadata": {},
   "source": []
  },
  {
   "cell_type": "code",
   "execution_count": 1,
   "id": "c120e17f",
   "metadata": {},
   "outputs": [
    {
     "name": "stdout",
     "output_type": "stream",
     "text": [
      "Minimum Episode Count: 1\n",
      "Maximum Episode Count: 51\n"
     ]
    }
   ],
   "source": [
    "import requests\n",
    "\n",
    "def episodeCount(species, status):\n",
    "    \"\"\"\n",
    "    Function to filter Rick and Morty characters based on species and status,\n",
    "    and return the minimum and maximum number of episodes in which the filtered characters have appeared.\n",
    "\n",
    "    Args:\n",
    "        species (str): The species to filter characters by (e.g., \"Human\", \"Alien\").\n",
    "        status (str): The status to filter characters by (e.g., \"Alive\", \"Dead\", \"unknown\").\n",
    "\n",
    "    Returns:\n",
    "        list: A list containing two integers representing the minimum and maximum episode counts among the filtered characters.\n",
    "              If no characters match the criteria, returns [0, 0].\n",
    "\n",
    "    Raises:\n",
    "        Exception: If there is an issue with the HTTP request or JSON parsing.\n",
    "    \"\"\"\n",
    "    # Initialize the minimum and maximum episode counts\n",
    "    min_episodes = float('inf')\n",
    "    max_episodes = float('-inf')\n",
    "\n",
    "    try:\n",
    "        # Rick and Morty API endpoint for characters\n",
    "        url = \"https://rickandmortyapi.com/api/character/\"\n",
    "        page = 1  # Start from the first page\n",
    "\n",
    "        # Iterate through all pages of the API response\n",
    "        while True:\n",
    "            # Make an HTTP GET request, passing the current page number as a query parameter\n",
    "            response = requests.get(url, params={\"page\": page})\n",
    "            response.raise_for_status()  # Handle HTTP errors\n",
    "            data = response.json()       # Parse the JSON response\n",
    "\n",
    "            # Extract the list of characters from the response\n",
    "            characters = data.get(\"results\", [])\n",
    "            if not characters:\n",
    "                # If there are no more characters, exit the loop\n",
    "                break\n",
    "\n",
    "            # Iterate through each character record in the current page\n",
    "            for character in characters:\n",
    "                # Filter records based on species and status\n",
    "                if character.get(\"species\") == species and character.get(\"status\") == status:\n",
    "                    # Count the number of episodes in which the character appears\n",
    "                    ep_count = len(character.get(\"episode\", []))\n",
    "                    # Update the minimum and maximum episode counts\n",
    "                    min_episodes = min(min_episodes, ep_count)\n",
    "                    max_episodes = max(max_episodes, ep_count)\n",
    "\n",
    "            # Check if there is a next page; if not, break out of the loop.\n",
    "            info = data.get(\"info\", {})\n",
    "            if not info.get(\"next\"):\n",
    "                break\n",
    "\n",
    "            # Move to the next page\n",
    "            page += 1\n",
    "\n",
    "    except Exception as e:\n",
    "        # If there is any error during the request or processing, raise an exception.\n",
    "        raise Exception(\"An error occurred: \" + str(e))\n",
    "\n",
    "    # If no matching characters were found, return [0, 0]\n",
    "    if min_episodes == float('inf') and max_episodes == float('-inf'):\n",
    "        return [0, 0]\n",
    "\n",
    "    # Return the integer values of the minimum and maximum episode counts.\n",
    "    return [int(min_episodes), int(max_episodes)]\n",
    "\n",
    "# Example usage:\n",
    "species_filter = \"Human\"\n",
    "status_filter = \"Alive\"\n",
    "result = episodeCount(species_filter, status_filter)\n",
    "print(\"Minimum Episode Count:\", result[0])\n",
    "print(\"Maximum Episode Count:\", result[1])"
   ]
  },
  {
   "cell_type": "code",
   "execution_count": 1,
   "id": "b3f7d49d",
   "metadata": {},
   "outputs": [
    {
     "name": "stdout",
     "output_type": "stream",
     "text": [
      "Collecting numpy\n",
      "  Downloading numpy-2.2.5-cp313-cp313-win_amd64.whl.metadata (60 kB)\n",
      "Downloading numpy-2.2.5-cp313-cp313-win_amd64.whl (12.6 MB)\n",
      "   ---------------------------------------- 0.0/12.6 MB ? eta -:--:--\n",
      "   --------------------------- ------------ 8.7/12.6 MB 45.9 MB/s eta 0:00:01\n",
      "   ---------------------------------------- 12.6/12.6 MB 43.3 MB/s eta 0:00:00\n",
      "Installing collected packages: numpy\n",
      "Successfully installed numpy-2.2.5\n"
     ]
    }
   ],
   "source": [
    "!pip install numpy"
   ]
  },
  {
   "cell_type": "code",
   "execution_count": 3,
   "id": "d1e91c20",
   "metadata": {},
   "outputs": [],
   "source": [
    "import numpy as np"
   ]
  },
  {
   "cell_type": "markdown",
   "id": "f758ae22",
   "metadata": {},
   "source": [
    "---CREATE---"
   ]
  },
  {
   "cell_type": "code",
   "execution_count": 5,
   "id": "3546444b",
   "metadata": {},
   "outputs": [
    {
     "data": {
      "text/plain": [
       "array([[[0.55210088, 0.65965471, 0.58156886, 0.01313803],\n",
       "        [0.18084891, 0.83664275, 0.72879904, 0.25029644],\n",
       "        [0.22347343, 0.63528907, 0.53568245, 0.75325559]],\n",
       "\n",
       "       [[0.00436874, 0.66668933, 0.55482488, 0.41473376],\n",
       "        [0.28789109, 0.12971141, 0.75018074, 0.71781998],\n",
       "        [0.37466636, 0.57892129, 0.03806561, 0.20967538]]])"
      ]
     },
     "execution_count": 5,
     "metadata": {},
     "output_type": "execute_result"
    }
   ],
   "source": [
    "data = np.random.rand(2,3,4)\n",
    "zeroes = np.zeros((2,2,2))\n",
    "full = np.full((2,2,2), 7)\n",
    "ones = np.ones((2,2,2))\n",
    "data"
   ]
  },
  {
   "cell_type": "code",
   "execution_count": 7,
   "id": "338a0ed1",
   "metadata": {},
   "outputs": [
    {
     "data": {
      "text/plain": [
       "array([[[0., 0.],\n",
       "        [0., 0.]],\n",
       "\n",
       "       [[0., 0.],\n",
       "        [0., 0.]]])"
      ]
     },
     "execution_count": 7,
     "metadata": {},
     "output_type": "execute_result"
    }
   ],
   "source": [
    "zeroes"
   ]
  },
  {
   "cell_type": "code",
   "execution_count": 8,
   "id": "08c4027c",
   "metadata": {},
   "outputs": [
    {
     "data": {
      "text/plain": [
       "array([[[1., 1.],\n",
       "        [1., 1.]],\n",
       "\n",
       "       [[1., 1.],\n",
       "        [1., 1.]]])"
      ]
     },
     "execution_count": 8,
     "metadata": {},
     "output_type": "execute_result"
    }
   ],
   "source": [
    "ones"
   ]
  },
  {
   "cell_type": "code",
   "execution_count": 14,
   "id": "7f0abaf8",
   "metadata": {},
   "outputs": [
    {
     "data": {
      "text/plain": [
       "numpy.ndarray"
      ]
     },
     "execution_count": 14,
     "metadata": {},
     "output_type": "execute_result"
    }
   ],
   "source": [
    "arr = np.array([[1,2,3,4,], [1,2,3,4]])\n",
    "\n",
    "type(arr)\n"
   ]
  },
  {
   "cell_type": "code",
   "execution_count": 18,
   "id": "00db0a3d",
   "metadata": {},
   "outputs": [
    {
     "data": {
      "text/plain": [
       "dtype('float64')"
      ]
     },
     "execution_count": 18,
     "metadata": {},
     "output_type": "execute_result"
    }
   ],
   "source": [
    "shape = data.shape\n",
    "size = data.size\n",
    "types = data.dtype\n",
    "\n",
    "types"
   ]
  },
  {
   "cell_type": "code",
   "execution_count": 22,
   "id": "973d0009",
   "metadata": {},
   "outputs": [
    {
     "data": {
      "text/plain": [
       "np.float64(0.5521008753514942)"
      ]
     },
     "execution_count": 22,
     "metadata": {},
     "output_type": "execute_result"
    }
   ],
   "source": [
    "arr = data[0]\n",
    "slicer = data[0:2]\n",
    "reverse = data[-1]\n",
    "singleval = data [0] [0] [0]\n",
    "\n",
    "singleval"
   ]
  },
  {
   "cell_type": "code",
   "execution_count": 27,
   "id": "8bd5c568",
   "metadata": {},
   "outputs": [
    {
     "data": {
      "text/plain": [
       "array([0.34579751, 0.32968696, 0.70435268, 0.67253911, 0.04362642,\n",
       "       0.56716095, 0.00231082, 0.65449725, 0.7485964 , 0.33983157])"
      ]
     },
     "execution_count": 27,
     "metadata": {},
     "output_type": "execute_result"
    }
   ],
   "source": [
    "list1 = np.random.rand(10)\n",
    "list2 = np.random.rand(10)\n",
    "\n",
    "list2"
   ]
  },
  {
   "cell_type": "code",
   "execution_count": 31,
   "id": "3ddbc604",
   "metadata": {},
   "outputs": [
    {
     "data": {
      "text/plain": [
       "array([ 0.14297434,  0.44999583,  0.01847334,  0.20131827,  0.80453978,\n",
       "       -0.01387731,  0.91985655, -0.54807738, -0.05105217,  0.25913062])"
      ]
     },
     "execution_count": 31,
     "metadata": {},
     "output_type": "execute_result"
    }
   ],
   "source": [
    "add = np.add(list1, list2)\n",
    "sub = np.subtract(list1, list2)\n",
    "div = np. divide(list1 ,list2)\n",
    "mult = np.multiply(list1, list2)\n",
    "dot = np.dot(list1, list2)\n",
    "\n",
    "sub"
   ]
  },
  {
   "cell_type": "code",
   "execution_count": 5,
   "id": "4989e83b",
   "metadata": {},
   "outputs": [
    {
     "name": "stdout",
     "output_type": "stream",
     "text": [
      "[1 2 3]\n",
      "[[1 2 3]\n",
      " [4 5 6]]\n",
      "[1 3 2]\n"
     ]
    }
   ],
   "source": [
    "import numpy as np\n",
    "\n",
    "arr = np.array([1, 2, 3])\n",
    "print(arr)\n",
    "\n",
    "arr = np.array([[1 ,2 ,3,],[4, 5, 6]])\n",
    "print(arr)\n",
    "\n",
    "arr=np.array((1, 3, 2))\n",
    "print(arr)"
   ]
  },
  {
   "cell_type": "code",
   "execution_count": null,
   "id": "4ed2f70d",
   "metadata": {},
   "outputs": [],
   "source": [
    "import numpy as np\n",
    "\n",
    "arr = np.array([1, 2, 3])\n",
    "print(arr)\n",
    "\n",
    "arr = np.array([[1 ,2 ,3,],[4, 5, 6]])\n",
    "print(arr)\n",
    "\n",
    "arr=np.array((1, 3, 2))\n",
    "print(arr)\n",
    "# Printing a range of Array\n",
    "# with the use of slicing method\n",
    "arr = np.array([[-1, 2, 0, 4],[4, -0.5, 6, 0],[2.6, 0, 7, 8],[3, -7, 4, 2.0]])\n"
   ]
  },
  {
   "cell_type": "code",
   "execution_count": 8,
   "id": "306b0256",
   "metadata": {},
   "outputs": [
    {
     "name": "stdout",
     "output_type": "stream",
     "text": [
      "first 2 rows and alternate columns(0 and 2):\n",
      " [[-1.  0.]\n",
      " [ 4.  6.]]\n",
      "\n",
      "elements at indices (1, 3),(1, 2),(0, 1),(3, 0):\n",
      " [0. 6. 2. 3.]\n"
     ]
    }
   ],
   "source": [
    "import numpy as np\n",
    "\n",
    "arr = np.array([[-1, 2, 0, 4],[4, -0.5, 6, 0],[2.6, 0, 7, 8],[3, -7, 4, 2.0]])\n",
    "# Printing a range of Array\n",
    "# with the use of slicing method\n",
    "arr2= arr[:2, ::2]\n",
    "print (\"first 2 rows and alternate columns(0 and 2):\\n\", arr2)\n",
    "\n",
    "arr3 = arr[[1, 1, 0, 3],[3, 2, 1, 0]]\n",
    "print (\"\\nelements at indices (1, 3),\"\"(1, 2),(0, 1),(3, 0):\\n\", arr3)"
   ]
  },
  {
   "cell_type": "code",
   "execution_count": 17,
   "id": "a55873a0",
   "metadata": {},
   "outputs": [
    {
     "name": "stdout",
     "output_type": "stream",
     "text": [
      "adding 1 to every element: [[2 3]\n",
      " [4 5]]\n",
      "\n",
      "Subtracting 2 from each element: [[ 2  1]\n",
      " [ 0 -1]]\n",
      "\n",
      "Sum of all array elements:  10\n"
     ]
    }
   ],
   "source": [
    "import numpy as np\n",
    "# Defining Array 1\n",
    "a = np.array([[1, 2],[3, 4]])\n",
    "\n",
    "# Defining Array 2\n",
    "b = np.array([[4, 3],[2, 1]])\n",
    "#adding 1 to every element\n",
    "print (\"adding 1 to every element:\" , a + 1)\n",
    "\n",
    "# Subtracting 2 from each element\n",
    "print (\"\\nSubtracting 2 from each element:\", b - 2)\n",
    " \n",
    "# sum of array elements\n",
    "# Performing Unary operations\n",
    "print (\"\\nSum of all array elements: \", a.sum())\n",
    " \n",
    "# Adding two arrays\n",
    "# Performing Binary operations\n"
   ]
  },
  {
   "cell_type": "code",
   "execution_count": null,
   "id": "25339964",
   "metadata": {},
   "outputs": [],
   "source": []
  }
 ],
 "metadata": {
  "kernelspec": {
   "display_name": "Python 3",
   "language": "python",
   "name": "python3"
  },
  "language_info": {
   "codemirror_mode": {
    "name": "ipython",
    "version": 3
   },
   "file_extension": ".py",
   "mimetype": "text/x-python",
   "name": "python",
   "nbconvert_exporter": "python",
   "pygments_lexer": "ipython3",
   "version": "3.13.2"
  }
 },
 "nbformat": 4,
 "nbformat_minor": 5
}
